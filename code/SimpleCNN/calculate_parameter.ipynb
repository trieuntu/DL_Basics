{
 "cells": [
  {
   "cell_type": "markdown",
   "metadata": {},
   "source": [
    "### Tính số lượng tham số và dung lượng lưu trữ của mô hình CNN"
   ]
  },
  {
   "cell_type": "code",
   "execution_count": 6,
   "metadata": {},
   "outputs": [
    {
     "name": "stdout",
     "output_type": "stream",
     "text": [
      "Số lượng tham số của mô hình: 1257014\n",
      "Dung lượng lưu trữ của mô hình: 0.004683 GB\n"
     ]
    }
   ],
   "source": [
    "import torch\n",
    "import torch.nn as nn\n",
    "import torch.nn.functional as F\n",
    "\n",
    "class ML_CNN(nn.Module):\n",
    "    def __init__(self):\n",
    "        super(ML_CNN, self).__init__()\n",
    "        self.conv1 = nn.Conv2d(in_channels=1, out_channels=4, kernel_size=3, stride=1, padding=1)  \n",
    "        self.conv2 = nn.Conv2d(in_channels=4, out_channels=8, kernel_size=3, stride=1, padding=1)  \n",
    "        self.conv3 = nn.Conv2d(in_channels=8, out_channels=16, kernel_size=3, stride=1, padding=1)  \n",
    "        self.fc_layer = torch.nn.Sequential(\n",
    "            nn.Linear(16*28*28, 100), nn.ReLU(),nn.Linear(100, 10),)\n",
    "    def forward(self, x):\n",
    "        x1 = F.relu(self.conv1(x)) \n",
    "        x2 = F.relu(self.conv2(x1))  \n",
    "        x3 = F.relu(self.conv3(x2))  \n",
    "        x = torch.flatten(x3, 1)\n",
    "        logits = self.fc_layer(x)\n",
    "        return logits\n",
    "# Khởi tạo mạng CNN\n",
    "model = ML_CNN()\n",
    "# Tính tổng tham số của mô hình\n",
    "number_of_parameter = 0\n",
    "storage_memory = 0.0\n",
    "for name, param in model.named_parameters():\n",
    "    number_of_parameter += param.numel()\n",
    "    storage_memory += (param.numel() * param.element_size())/ (1024 ** 3)\n",
    "print(\"Số lượng tham số của mô hình:\", number_of_parameter)\n",
    "print(f\"Dung lượng lưu trữ của mô hình: {storage_memory:f} GB\")"
   ]
  },
  {
   "cell_type": "markdown",
   "metadata": {},
   "source": [
    "###  Tính số lượng tham số và dung lượng lưu trữ của mô hình MLP"
   ]
  },
  {
   "cell_type": "code",
   "execution_count": 7,
   "metadata": {},
   "outputs": [
    {
     "name": "stdout",
     "output_type": "stream",
     "text": [
      "Số lượng tham số của mô hình: 1515392110\n",
      "Dung lượng lưu trữ của mô hình: 5.645276 GB\n"
     ]
    }
   ],
   "source": [
    "import torch\n",
    "import torch.nn as nn\n",
    "import torch.nn.functional as F\n",
    "\n",
    "class MLP(nn.Module):\n",
    "    def __init__(self):\n",
    "        super(MLP,self).__init__()\n",
    "        self.Linear1 = nn.Linear(3*224*224, 10000)\n",
    "        self.Linear2 = nn.Linear(10000, 1000)\n",
    "        self.Linear3 = nn.Linear(1000, 100)\n",
    "        self.ouput = nn.Linear(100, 10)\n",
    "    def forward(self, x):\n",
    "        x1 = F.relu(self.Linear1(x)) \n",
    "        x2 = F.relu(self.Linear2(x1))  \n",
    "        x3 = F.relu(self.Linear3(x2))  \n",
    "        x = torch.flatten(x3, 1)\n",
    "        logits = self.ouput(x)\n",
    "        return logits\n",
    "\n",
    "# Khởi tạo mạng MLP\n",
    "model = MLP()\n",
    "# Tính tổng tham số của mô hình\n",
    "number_of_parameter = 0\n",
    "storage_memory = 0.0\n",
    "for name, param in model.named_parameters():\n",
    "    number_of_parameter += param.numel()\n",
    "    storage_memory += (param.numel() * param.element_size())/ (1024 ** 3)\n",
    "print(\"Số lượng tham số của mô hình:\", number_of_parameter)\n",
    "print(f\"Dung lượng lưu trữ của mô hình: {storage_memory:f} GB\")\n",
    "\n",
    "\n"
   ]
  },
  {
   "cell_type": "code",
   "execution_count": 9,
   "metadata": {},
   "outputs": [
    {
     "data": {
      "text/plain": [
       "1257014"
      ]
     },
     "execution_count": 9,
     "metadata": {},
     "output_type": "execute_result"
    }
   ],
   "source": [
    "3*3*4+4 + 3*3*8*4+8 + 3*3*16*8+16 + 16*28*28*100+100 + 100*10+10"
   ]
  }
 ],
 "metadata": {
  "kernelspec": {
   "display_name": "flask_appenv",
   "language": "python",
   "name": "python3"
  },
  "language_info": {
   "codemirror_mode": {
    "name": "ipython",
    "version": 3
   },
   "file_extension": ".py",
   "mimetype": "text/x-python",
   "name": "python",
   "nbconvert_exporter": "python",
   "pygments_lexer": "ipython3",
   "version": "3.11.1"
  }
 },
 "nbformat": 4,
 "nbformat_minor": 2
}
